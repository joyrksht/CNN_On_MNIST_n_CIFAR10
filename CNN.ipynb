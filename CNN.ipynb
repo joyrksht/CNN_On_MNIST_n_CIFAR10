{
  "nbformat": 4,
  "nbformat_minor": 0,
  "metadata": {
    "colab": {
      "name": "CNN_On_MNIST_n_CIFAR10.ipynb",
      "provenance": [],
      "collapsed_sections": []
    },
    "kernelspec": {
      "display_name": "Python 3",
      "language": "python",
      "name": "python3"
    },
    "language_info": {
      "codemirror_mode": {
        "name": "ipython",
        "version": 3
      },
      "file_extension": ".py",
      "mimetype": "text/x-python",
      "name": "python",
      "nbconvert_exporter": "python",
      "pygments_lexer": "ipython3",
      "version": "3.8.5"
    }
  },
  "cells": [
    {
      "cell_type": "markdown",
      "metadata": {
        "id": "gDiPMRQ9nt60"
      },
      "source": [
        "# Keras & CNNs**\n"
      ]
    },
    {
      "cell_type": "code",
      "metadata": {
        "colab": {
          "base_uri": "https://localhost:8080/"
        },
        "id": "6pOb3RXvWqQ5",
        "outputId": "e6795f1b-14c3-49f6-f081-cd3e2505ee2a"
      },
      "source": [
        "from google.colab import drive; drive.mount('/content/drive')\n",
        "import os"
      ],
      "execution_count": null,
      "outputs": [
        {
          "name": "stdout",
          "output_type": "stream",
          "text": [
            "Drive already mounted at /content/drive; to attempt to forcibly remount, call drive.mount(\"/content/drive\", force_remount=True).\n"
          ]
        }
      ]
    },
    {
      "cell_type": "code",
      "metadata": {
        "id": "OXkQIB34YG-6"
      },
      "source": [
        "os.chdir(\"/content/drive/My Drive/Colab Notebooks/IDL/Assignment3\")"
      ],
      "execution_count": null,
      "outputs": []
    },
    {
      "cell_type": "code",
      "metadata": {
        "id": "nd_SkhuuYeGt"
      },
      "source": [
        "import tensorflow as tf\n",
        "import numpy as np\n",
        "import matplotlib.pyplot as plt\n",
        "import keras\n",
        "import numpy\n",
        "from tensorflow.keras.utils import to_categorical\n",
        "from keras.models import Sequential\n",
        "from keras.layers import Conv2D\n",
        "from keras.layers import MaxPooling2D\n",
        "from keras.layers import Dense\n",
        "from keras.layers import Flatten\n",
        "from tensorflow.keras.optimizers import SGD\n",
        "import time\n",
        "from keras.layers import Dropout\n",
        "from keras.regularizers import l2\n",
        "from keras.layers import BatchNormalization "
      ],
      "execution_count": null,
      "outputs": []
    },
    {
      "cell_type": "markdown",
      "metadata": {
        "id": "Xi3RyDCXYsoC"
      },
      "source": [
        "Loading and reshaping the MNIST data"
      ]
    },
    {
      "cell_type": "code",
      "metadata": {
        "colab": {
          "base_uri": "https://localhost:8080/",
          "height": 282
        },
        "id": "DB_cAeD5YrZd",
        "outputId": "c44f8839-3de6-4d9d-d1f4-f3232ce700d1"
      },
      "source": [
        "mnist = tf.keras.datasets.mnist\n",
        "(train_images, train_labels), (test_images, test_labels) = mnist.load_data()\n",
        "\n",
        "print(train_labels[1])\n",
        "plt.imshow(train_images[1], cmap=\"Greys_r\")\n",
        "\n",
        "# first difference: data is not reshaped to 784 anymore, but 28x28x1\n",
        "# note the 1 color channel!! this is important\n",
        "train_data = tf.data.Dataset.from_tensor_slices(\n",
        "    (train_images.reshape([-1, 28, 28, 1]).astype(np.float32) / 255, train_labels.astype(np.int32)))\n",
        "train_data = train_data.shuffle(buffer_size=60000).repeat(2).batch(128)\n",
        "\n",
        "\n",
        "test_data = tf.data.Dataset.from_tensor_slices(\n",
        "    (test_images.reshape([-1, 28, 28, 1]).astype(np.float32) / 255, test_labels.astype(np.int32))).batch(128)\n",
        "\n",
        "#set number of categories\n",
        "num_classes = 10"
      ],
      "execution_count": null,
      "outputs": [
        {
          "name": "stdout",
          "output_type": "stream",
          "text": [
            "0\n"
          ]
        },
        {
          "data": {
            "image/png": "[encoded data removed]",
            "text/plain": [
              "<Figure size 432x288 with 1 Axes>"
            ]
          },
          "metadata": {
            "needs_background": "light"
          },
          "output_type": "display_data"
        }
      ]
    },
    {
      "cell_type": "markdown",
      "metadata": {
        "id": "q2A1tar7dOUm"
      },
      "source": [
        "Building model MNIST data:"
      ]
    },
    {
      "cell_type": "code",
      "metadata": {
        "id": "7aA8to8RMivx"
      },
      "source": [
        "def train_model_1 (train_steps):\n",
        "   \n",
        "    train_acc_metric = tf.keras.metrics.SparseCategoricalAccuracy()\n",
        "\n",
        "    for step, (image_batch, label_batch) in enumerate(train_data):\n",
        "        if step > train_steps:\n",
        "            break\n",
        "\n",
        "        with tf.GradientTape() as tape:\n",
        "            logits = model(image_batch)\n",
        "            # loss format is generally: first argument targets, second argument outputs\n",
        "            loss = loss_fn(label_batch, logits)\n",
        "\n",
        "        # if you didn't build the model, it is important that you get the variables\n",
        "        # AFTER the model has been called the first time\n",
        "        variables = model.trainable_variables\n",
        "        gradients = tape.gradient(loss, variables)\n",
        "          \n",
        "        optimizer.apply_gradients(zip(gradients, variables))\n",
        "        \n",
        "        train_acc_metric(label_batch, logits)\n",
        "        \n",
        "        if not step % 100:\n",
        "            # this is different from before. there, we only evaluated accuracy\n",
        "            # for one batch. Now, we always average over 100 batches\n",
        "            print(\"Loss: {} Accuracy: {}\".format(loss, train_acc_metric.result()))\n",
        "            train_acc_metric.reset_states()"
      ],
      "execution_count": null,
      "outputs": []
    },
    {
      "cell_type": "code",
      "metadata": {
        "id": "tpGpiPCXYLrV"
      },
      "source": [
        "def train_model_2 (epochs,batch_size):\n",
        "  for epoch in range(epochs):\n",
        "      print(\"\\nStart of epoch %d\" % (epoch,))\n",
        "      start_time = time.time()\n",
        "      train_acc_metric = tf.keras.metrics.SparseCategoricalAccuracy()\n",
        "      val_acc_metric = tf.keras.metrics.SparseCategoricalAccuracy()\n",
        "\n",
        "      # Iterate over the batches of the dataset.\n",
        "      for step, (x_batch_train, y_batch_train) in enumerate(train_data):\n",
        "          with tf.GradientTape() as tape:\n",
        "              logits = model(x_batch_train, training=True)\n",
        "              loss_value = loss_fn(y_batch_train, logits)\n",
        "          grads = tape.gradient(loss_value, model.trainable_variables)\n",
        "          optimizer.apply_gradients(zip(grads, model.trainable_variables))\n",
        "\n",
        "          # Update training metric.\n",
        "          train_acc_metric.update_state(y_batch_train, logits)\n",
        "\n",
        "          # Log every 200 batches.\n",
        "          if step % 100 == 0:\n",
        "              print(\n",
        "                  \"Training loss (for one batch) at step %d: %.4f\"\n",
        "                  % (step, float(loss_value))\n",
        "              )\n",
        "              print(\"Seen so far: %d samples\" % ((step + 1) * batch_size))\n",
        "\n",
        "      # Display metrics at the end of each epoch.\n",
        "      train_acc = train_acc_metric.result()\n",
        "      print(\"Training acc over epoch: %.4f\" % (float(train_acc),))\n",
        "\n",
        "      # Reset training metrics at the end of each epoch\n",
        "      train_acc_metric.reset_states()\n",
        "\n",
        "      # Run a validation loop at the end of each epoch.\n",
        "      for x_batch_val, y_batch_val in test_data:\n",
        "          val_logits = model(x_batch_val, training=False)\n",
        "          # Update val metrics\n",
        "          val_acc_metric.update_state(y_batch_val, val_logits)\n",
        "      val_acc = val_acc_metric.result()\n",
        "      val_acc_metric.reset_states()\n",
        "      print(\"Validation acc: %.4f\" % (float(val_acc),))\n",
        "      print(\"Time taken: %.2fs\" % (time.time() - start_time))"
      ],
      "execution_count": null,
      "outputs": []
    },
    {
      "cell_type": "markdown",
      "metadata": {
        "id": "kHReq_G5Mg2M"
      },
      "source": [
        "Conv Model for MNIST and Training"
      ]
    },
    {
      "cell_type": "code",
      "metadata": {
        "colab": {
          "base_uri": "https://localhost:8080/"
        },
        "id": "LqRSC5Gj1aSs",
        "outputId": "c052f55a-d969-426b-bb06-bf2eab2209c0"
      },
      "source": [
        "optimizer = tf.optimizers.Adam()\n",
        "loss_fn = tf.losses.SparseCategoricalCrossentropy(from_logits=True)\n",
        "#model\n",
        "model = tf.keras.Sequential()\n",
        "#1st convolution uhnit: 32 kernel of 3*3 size, activation=ReLU\n",
        "model.add(tf.keras.layers.Conv2D(32, kernel_size=(3, 3),\n",
        "                 activation='relu',\n",
        "                 input_shape=[28, 28, 1]))\n",
        "#2nd convolution layer: 64 kernel of 3*3 size, activation=ReLU\n",
        "model.add(tf.keras.layers.Conv2D(64, kernel_size=(3, 3),\n",
        "                 activation='relu'))\n",
        "#adding pooling 2*2\n",
        "model.add(tf.keras.layers.MaxPooling2D(pool_size=(2, 2)))\n",
        "model.add(tf.keras.layers.Flatten())\n",
        "model.add(tf.keras.layers.Dense(256, activation='relu'))\n",
        "model.add(tf.keras.layers.Dropout(0.5)) #to avoid overfitting\n",
        "model.add(tf.keras.layers.Dense(num_classes, activation='softmax'))\n",
        "\n",
        "train_model_1 (2500) #Training with training steps"
      ],
      "execution_count": null,
      "outputs": [
        {
          "name": "stderr",
          "output_type": "stream",
          "text": [
            "/usr/local/lib/python3.7/dist-packages/keras/backend.py:4907: UserWarning: \"`sparse_categorical_crossentropy` received `from_logits=True`, but the `output` argument was produced by a sigmoid or softmax activation and thus does not represent logits. Was this intended?\"\n",
            "  '\"`sparse_categorical_crossentropy` received `from_logits=True`, but '\n"
          ]
        },
        {
          "name": "stdout",
          "output_type": "stream",
          "text": [
            "Loss: 2.322927474975586 Accuracy: 0.09375\n",
            "Loss: 0.10098396241664886 Accuracy: 0.8955468535423279\n",
            "Loss: 0.08162564039230347 Accuracy: 0.9686718583106995\n",
            "Loss: 0.029453769326210022 Accuracy: 0.9775781035423279\n",
            "Loss: 0.0657072588801384 Accuracy: 0.9801562428474426\n",
            "Loss: 0.003292784560471773 Accuracy: 0.9847656488418579\n",
            "Loss: 0.06272000074386597 Accuracy: 0.9857031106948853\n",
            "Loss: 0.08851412683725357 Accuracy: 0.9882031083106995\n",
            "Loss: 0.03342798352241516 Accuracy: 0.987109363079071\n",
            "Loss: 0.015821073204278946 Accuracy: 0.9896093606948853\n"
          ]
        }
      ]
    },
    {
      "cell_type": "code",
      "metadata": {
        "colab": {
          "base_uri": "https://localhost:8080/"
        },
        "id": "770ETmHR6Az2",
        "outputId": "ac4a0d34-c64c-489b-af5c-12dfbcb675eb"
      },
      "source": [
        "test_acc_metric = tf.keras.metrics.SparseCategoricalAccuracy()\n",
        "for image_batch, label_batch in test_data:\n",
        "    test_acc_metric(label_batch, model(image_batch))\n",
        "print(\"Test acc: {}\".format(test_acc_metric.result()))"
      ],
      "execution_count": null,
      "outputs": [
        {
          "name": "stdout",
          "output_type": "stream",
          "text": [
            "Test acc: 0.9876000285148621\n"
          ]
        }
      ]
    },
    {
      "cell_type": "markdown",
      "metadata": {
        "id": "Rdkc-8_r8G1M"
      },
      "source": [
        "# **Working with CIFAR-10 dataset**"
      ]
    },
    {
      "cell_type": "code",
      "metadata": {
        "colab": {
          "base_uri": "https://localhost:8080/",
          "height": 630
        },
        "id": "0IOLWMFq8Q46",
        "outputId": "3147598f-f374-4fb6-f894-b7b3cd75e4af"
      },
      "source": [
        "#Data Preparation and Data Analysis \n",
        "CIFAR10 = tf.keras.datasets.cifar10\n",
        "\n",
        "#Loading Dataset\n",
        "(train_images, train_labels), (test_images, test_labels) = CIFAR10.load_data()\n",
        "\n",
        "#Categories\n",
        "labels_dict = {0 : 'airplane', 1 : 'automobile', 2 : 'bird', 3 : 'cat', 4 : 'deer', 5 :  'dog', 6 : 'frog', 7 : 'horse', 8 : 'ship', 9 : 'truck' }\n",
        "\n",
        "\n",
        "#Plotting data distribution\n",
        "print(\"Data Distribution\")\n",
        "unique, counts = numpy.unique(train_labels, return_counts=True)\n",
        "labels = [ 'bird', 'cat','deer',  'dog', 'frog',  'horse', 'ship', 'truck','airplane', 'automobile',]\n",
        "data = dict(zip(labels,counts))\n",
        "plt.bar(range(len(data)), counts, tick_label=labels,align='edge')\n",
        "plt.xticks(rotation='vertical')\n",
        "print('Train: X=%s, y=%s' % (train_images.shape, train_labels.shape))\n",
        "print('Test: X=%s, y=%s' % (test_images.shape, test_labels.shape))\n",
        "\n",
        "#Plotting the data \n",
        "\n",
        "fig = plt.figure()\n",
        "for i in range(9):\n",
        "  label = labels_dict.get(train_labels[i][0], 'default')\n",
        "  plt.subplot(3,3,i+1)\n",
        "  plt.tight_layout()\n",
        "  plt.imshow(train_images[i])\n",
        "  plt.title(\"{}\".format(label))\n",
        "  plt.xticks([])\n",
        "  plt.yticks([])\n",
        "\n",
        "\n",
        "#Dataset Creation using tf data \n",
        "train_data = tf.data.Dataset.from_tensor_slices((train_images.reshape([-1, 32, 32, 3]).astype(np.float32) / 255, train_labels.astype(np.int32)))\n",
        "train_data = train_data.shuffle(buffer_size=50000).repeat(2).batch(128)\n",
        "test_data = tf.data.Dataset.from_tensor_slices((test_images.reshape([-1, 32, 32, 3]).astype(np.float32) / 255, test_labels.astype(np.int32))).batch(128)"
      ],
      "execution_count": null,
      "outputs": [
        {
          "name": "stdout",
          "output_type": "stream",
          "text": [
            "Data Distribution\n",
            "Train: X=(50000, 32, 32, 3), y=(50000, 1)\n",
            "Test: X=(10000, 32, 32, 3), y=(10000, 1)\n"
          ]
        },
        {
          "data": {
            "image/png": "[encoded data removed]",
            "text/plain": [
              "<Figure size 432x288 with 1 Axes>"
            ]
          },
          "metadata": {
            "needs_background": "light"
          },
          "output_type": "display_data"
        },
        {
          "data": {
            "image/png": "[encoded data removed]",
            "text/plain": [
              "<Figure size 432x288 with 9 Axes>"
            ]
          },
          "metadata": {},
          "output_type": "display_data"
        }
      ]
    },
    {
      "cell_type": "markdown",
      "metadata": {
        "id": "fqswI7X0i1Ub"
      },
      "source": [
        "Custom Model (a part of VGG net) for CIFAR-10"
      ]
    },
    {
      "cell_type": "code",
      "metadata": {
        "colab": {
          "base_uri": "https://localhost:8080/"
        },
        "id": "Zk03gj1Ji1Uc",
        "outputId": "72230fd2-f546-4c99-e400-afb4368c6faf"
      },
      "source": [
        "#set number of categories\n",
        "num_classes = 10\n",
        "\n",
        "#model\n",
        "model = tf.keras.Sequential()\n",
        "\n",
        "#1st convolution uhnit: 32 kernel of 3*3 size, activation=ReLU\n",
        "model.add(tf.keras.layers.Conv2D(32, kernel_size=(3, 3),\n",
        "                 activation='relu',\n",
        "                 input_shape=[32, 32, 3]))\n",
        "#adding pooling 2*2\n",
        "model.add(tf.keras.layers.MaxPooling2D(pool_size=(2, 2)))\n",
        "\n",
        "#2nd convolution layer: 64 kernel of 3*3 size, activation=ReLU\n",
        "model.add(tf.keras.layers.Conv2D(64, kernel_size=(3, 3),\n",
        "                 activation='relu'))\n",
        "#adding pooling 2*2\n",
        "model.add(tf.keras.layers.MaxPooling2D(pool_size=(2, 2)))\n",
        "\n",
        "#3rd convolution layer: 128 kernel of 3*3 size, activation=ReLU\n",
        "model.add(tf.keras.layers.Conv2D(128, kernel_size=(3, 3),\n",
        "                 activation='relu'))\n",
        "#adding pooling 2*2\n",
        "model.add(tf.keras.layers.MaxPooling2D(pool_size=(2, 2)))\n",
        "model.add(tf.keras.layers.Flatten())\n",
        "model.add(tf.keras.layers.Dense(256, activation='relu'))\n",
        "model.add(tf.keras.layers.Dropout(0.5)) #to avoid overfitting\n",
        "model.add(tf.keras.layers.Dense(num_classes, activation='softmax'))\n",
        "\n",
        "#summary\n",
        "model.summary()\n"
      ],
      "execution_count": null,
      "outputs": [
        {
          "name": "stdout",
          "output_type": "stream",
          "text": [
            "Model: \"sequential_1\"\n",
            "_________________________________________________________________\n",
            "Layer (type)                 Output Shape              Param #   \n",
            "=================================================================\n",
            "conv2d_3 (Conv2D)            (None, 30, 30, 32)        896       \n",
            "_________________________________________________________________\n",
            "max_pooling2d_3 (MaxPooling2 (None, 15, 15, 32)        0         \n",
            "_________________________________________________________________\n",
            "conv2d_4 (Conv2D)            (None, 13, 13, 64)        18496     \n",
            "_________________________________________________________________\n",
            "max_pooling2d_4 (MaxPooling2 (None, 6, 6, 64)          0         \n",
            "_________________________________________________________________\n",
            "conv2d_5 (Conv2D)            (None, 4, 4, 128)         73856     \n",
            "_________________________________________________________________\n",
            "max_pooling2d_5 (MaxPooling2 (None, 2, 2, 128)         0         \n",
            "_________________________________________________________________\n",
            "flatten_1 (Flatten)          (None, 512)               0         \n",
            "_________________________________________________________________\n",
            "dense_1 (Dense)              (None, 256)               131328    \n",
            "_________________________________________________________________\n",
            "dropout_1 (Dropout)          (None, 256)               0         \n",
            "_________________________________________________________________\n",
            "dense_2 (Dense)              (None, 10)                2570      \n",
            "=================================================================\n",
            "Total params: 227,146\n",
            "Trainable params: 227,146\n",
            "Non-trainable params: 0\n",
            "_________________________________________________________________\n"
          ]
        }
      ]
    },
    {
      "cell_type": "code",
      "metadata": {
        "colab": {
          "base_uri": "https://localhost:8080/"
        },
        "id": "LW65XegFH5ro",
        "outputId": "2de93998-ae39-44e6-a888-dc9f6cb6122c"
      },
      "source": [
        "#train model for CIFAR-10\n",
        "train_model_1 (2500)"
      ],
      "execution_count": null,
      "outputs": [
        {
          "name": "stderr",
          "output_type": "stream",
          "text": [
            "/usr/local/lib/python3.7/dist-packages/keras/backend.py:4907: UserWarning: \"`sparse_categorical_crossentropy` received `from_logits=True`, but the `output` argument was produced by a sigmoid or softmax activation and thus does not represent logits. Was this intended?\"\n",
            "  '\"`sparse_categorical_crossentropy` received `from_logits=True`, but '\n"
          ]
        },
        {
          "name": "stdout",
          "output_type": "stream",
          "text": [
            "Loss: 2.3072457313537598 Accuracy: 0.125\n",
            "Loss: 1.6981024742126465 Accuracy: 0.22812500596046448\n",
            "Loss: 1.5367310047149658 Accuracy: 0.3864062428474426\n",
            "Loss: 1.6112408638000488 Accuracy: 0.45039063692092896\n",
            "Loss: 1.3538094758987427 Accuracy: 0.490234375\n",
            "Loss: 1.3879834413528442 Accuracy: 0.5229687690734863\n",
            "Loss: 1.2851450443267822 Accuracy: 0.5540624856948853\n",
            "Loss: 1.0633864402770996 Accuracy: 0.5580468773841858\n"
          ]
        }
      ]
    },
    {
      "cell_type": "code",
      "metadata": {
        "colab": {
          "base_uri": "https://localhost:8080/"
        },
        "id": "BceP15kdi1Uf",
        "outputId": "01dbb152-af44-4d46-f199-7f1e8a9869c1"
      },
      "source": [
        "#Test for CIFAR-10 \n",
        "test_acc_metric = tf.keras.metrics.SparseCategoricalAccuracy()\n",
        "for image_batch, label_batch in test_data:\n",
        "    test_acc_metric(label_batch, model(image_batch))\n",
        "print(\"Test acc: {}\".format(test_acc_metric.result()))"
      ],
      "execution_count": null,
      "outputs": [
        {
          "name": "stdout",
          "output_type": "stream",
          "text": [
            "Test acc: 0.5687999725341797\n"
          ]
        }
      ]
    },
    {
      "cell_type": "markdown",
      "metadata": {
        "id": "vYcSqSehi1Ug"
      },
      "source": [
        "**Test observations for Custom Model:**\n",
        "\n",
        "Test1: 2 layers of kernel 3x3 --> Maxpool 2x2 --> dense 256\n",
        "\n",
        "> *training accuracy:56% & test accuracy: 58%*\n",
        "\n",
        "Test 2: 2 layers of kernel 3x3 --> Maxpool 2x2 --> dense 512\n",
        "\n",
        "\n",
        "> Training accuracy:54% & test accuracy 54%\n",
        "\n",
        "Test 3: 3 layers of kernel operation 3x3 and maxpool after each convolution layer --> dense 512\n",
        "\n",
        "\n",
        "> Training accuracy 56% & test accuracy 57%\n",
        "\n",
        "\n",
        "\n",
        "\n",
        "\n",
        "\n",
        "\n"
      ]
    },
    {
      "cell_type": "markdown",
      "metadata": {
        "id": "gGvHb6xTi1Uh"
      },
      "source": [
        "# **Experiments:**\n",
        "\n",
        "For Further experiments, we have utilised a VGG block\n"
      ]
    },
    {
      "cell_type": "markdown",
      "metadata": {
        "id": "AoLkLNrWi1Uh"
      },
      "source": [
        "# **Experiment 1: Experimenting with different Optimizers**\n",
        "\n",
        "Optimisers we worked with : SGD, ADAM, RMSprop"
      ]
    },
    {
      "cell_type": "markdown",
      "metadata": {
        "id": "OJmxWceknqsA"
      },
      "source": [
        "# Exp 1.1  Custom model + SGD Optimizer "
      ]
    },
    {
      "cell_type": "code",
      "metadata": {
        "colab": {
          "base_uri": "https://localhost:8080/"
        },
        "id": "S2UYPnJOA6Wz",
        "outputId": "03831b6b-7036-4195-85ce-4079e08a489e"
      },
      "source": [
        "#Optimiser and Loss Function\n",
        "optimizer = SGD(learning_rate=0.001, momentum=0.9)\n",
        "loss_fn = tf.losses.SparseCategoricalCrossentropy(from_logits=True)\n",
        "\n",
        "model = Sequential()\n",
        "model.add(Conv2D(32, (3, 3), activation='relu', kernel_initializer='he_uniform', padding='same', input_shape=(32, 32, 3)))\n",
        "model.add(Conv2D(32, (3, 3), activation='relu', kernel_initializer='he_uniform', padding='same'))\n",
        "model.add(MaxPooling2D((2, 2)))\n",
        "model.add(Flatten())\n",
        "model.add(Dense(128, activation='relu', kernel_initializer='he_uniform'))\n",
        "model.add(Dense(10, activation='softmax'))\n",
        "\n",
        "#training \n",
        "train_model_2 (5,128)"
      ],
      "execution_count": null,
      "outputs": [
        {
          "name": "stdout",
          "output_type": "stream",
          "text": [
            "\n",
            "Start of epoch 0\n"
          ]
        },
        {
          "name": "stderr",
          "output_type": "stream",
          "text": [
            "/usr/local/lib/python3.7/dist-packages/keras/backend.py:4907: UserWarning: \"`sparse_categorical_crossentropy` received `from_logits=True`, but the `output` argument was produced by a sigmoid or softmax activation and thus does not represent logits. Was this intended?\"\n",
            "  '\"`sparse_categorical_crossentropy` received `from_logits=True`, but '\n"
          ]
        },
        {
          "name": "stdout",
          "output_type": "stream",
          "text": [
            "Training loss (for one batch) at step 0: 2.3119\n",
            "Seen so far: 128 samples\n",
            "Training loss (for one batch) at step 100: 1.9286\n",
            "Seen so far: 12928 samples\n",
            "Training loss (for one batch) at step 200: 1.8296\n",
            "Seen so far: 25728 samples\n",
            "Training loss (for one batch) at step 300: 1.6343\n",
            "Seen so far: 38528 samples\n",
            "Training loss (for one batch) at step 400: 1.7451\n",
            "Seen so far: 51328 samples\n",
            "Training loss (for one batch) at step 500: 1.4885\n",
            "Seen so far: 64128 samples\n",
            "Training loss (for one batch) at step 600: 1.5776\n",
            "Seen so far: 76928 samples\n",
            "Training loss (for one batch) at step 700: 1.6225\n",
            "Seen so far: 89728 samples\n",
            "Training loss (for one batch) at step 800: 1.5870\n",
            "Seen so far: 102528 samples\n",
            "Training loss (for one batch) at step 900: 1.4181\n",
            "Seen so far: 115328 samples\n",
            "Training acc over epoch: 0.4152\n",
            "Validation acc: 0.4957\n",
            "Time taken: 338.97s\n",
            "\n",
            "Start of epoch 1\n",
            "Training loss (for one batch) at step 0: 1.4155\n",
            "Seen so far: 128 samples\n",
            "Training loss (for one batch) at step 100: 1.2690\n",
            "Seen so far: 12928 samples\n",
            "Training loss (for one batch) at step 200: 1.3006\n",
            "Seen so far: 25728 samples\n",
            "Training loss (for one batch) at step 300: 1.5385\n",
            "Seen so far: 38528 samples\n",
            "Training loss (for one batch) at step 400: 1.5262\n",
            "Seen so far: 51328 samples\n",
            "Training loss (for one batch) at step 500: 1.2525\n",
            "Seen so far: 64128 samples\n",
            "Training loss (for one batch) at step 600: 1.3091\n",
            "Seen so far: 76928 samples\n",
            "Training loss (for one batch) at step 700: 1.3389\n",
            "Seen so far: 89728 samples\n",
            "Training loss (for one batch) at step 800: 1.3049\n",
            "Seen so far: 102528 samples\n",
            "Training loss (for one batch) at step 900: 1.1427\n",
            "Seen so far: 115328 samples\n",
            "Training acc over epoch: 0.5409\n",
            "Validation acc: 0.5442\n",
            "Time taken: 391.05s\n",
            "\n",
            "Start of epoch 2\n",
            "Training loss (for one batch) at step 0: 1.3017\n",
            "Seen so far: 128 samples\n",
            "Training loss (for one batch) at step 100: 1.1558\n",
            "Seen so far: 12928 samples\n",
            "Training loss (for one batch) at step 200: 1.2303\n",
            "Seen so far: 25728 samples\n",
            "Training loss (for one batch) at step 300: 1.1950\n",
            "Seen so far: 38528 samples\n",
            "Training loss (for one batch) at step 400: 1.2102\n",
            "Seen so far: 51328 samples\n",
            "Training loss (for one batch) at step 500: 1.0280\n",
            "Seen so far: 64128 samples\n",
            "Training loss (for one batch) at step 600: 1.2673\n",
            "Seen so far: 76928 samples\n",
            "Training loss (for one batch) at step 700: 1.1673\n",
            "Seen so far: 89728 samples\n",
            "Training loss (for one batch) at step 800: 0.9920\n",
            "Seen so far: 102528 samples\n",
            "Training loss (for one batch) at step 900: 1.2847\n",
            "Seen so far: 115328 samples\n",
            "Training acc over epoch: 0.5939\n",
            "Validation acc: 0.5908\n",
            "Time taken: 391.10s\n",
            "\n",
            "Start of epoch 3\n",
            "Training loss (for one batch) at step 0: 1.2133\n",
            "Seen so far: 128 samples\n",
            "Training loss (for one batch) at step 100: 1.1058\n",
            "Seen so far: 12928 samples\n",
            "Training loss (for one batch) at step 200: 0.9693\n",
            "Seen so far: 25728 samples\n",
            "Training loss (for one batch) at step 300: 1.2225\n",
            "Seen so far: 38528 samples\n",
            "Training loss (for one batch) at step 400: 1.0269\n",
            "Seen so far: 51328 samples\n",
            "Training loss (for one batch) at step 500: 1.1108\n",
            "Seen so far: 64128 samples\n",
            "Training loss (for one batch) at step 600: 0.8974\n",
            "Seen so far: 76928 samples\n",
            "Training loss (for one batch) at step 700: 1.1580\n",
            "Seen so far: 89728 samples\n",
            "Training loss (for one batch) at step 800: 1.1189\n",
            "Seen so far: 102528 samples\n",
            "Training loss (for one batch) at step 900: 0.9242\n",
            "Seen so far: 115328 samples\n",
            "Training acc over epoch: 0.6292\n",
            "Validation acc: 0.6037\n",
            "Time taken: 391.14s\n",
            "\n",
            "Start of epoch 4\n",
            "Training loss (for one batch) at step 0: 1.0229\n",
            "Seen so far: 128 samples\n",
            "Training loss (for one batch) at step 100: 0.9838\n",
            "Seen so far: 12928 samples\n",
            "Training loss (for one batch) at step 200: 0.9479\n",
            "Seen so far: 25728 samples\n",
            "Training loss (for one batch) at step 300: 0.9422\n",
            "Seen so far: 38528 samples\n",
            "Training loss (for one batch) at step 400: 0.9887\n",
            "Seen so far: 51328 samples\n",
            "Training loss (for one batch) at step 500: 0.9745\n",
            "Seen so far: 64128 samples\n",
            "Training loss (for one batch) at step 600: 1.0765\n",
            "Seen so far: 76928 samples\n",
            "Training loss (for one batch) at step 700: 0.8200\n",
            "Seen so far: 89728 samples\n",
            "Training loss (for one batch) at step 800: 0.8099\n",
            "Seen so far: 102528 samples\n",
            "Training loss (for one batch) at step 900: 0.9087\n",
            "Seen so far: 115328 samples\n",
            "Training acc over epoch: 0.6609\n",
            "Validation acc: 0.6257\n",
            "Time taken: 338.09s\n"
          ]
        }
      ]
    },
    {
      "cell_type": "code",
      "metadata": {
        "colab": {
          "base_uri": "https://localhost:8080/"
        },
        "id": "rPAaGVyfLPfK",
        "outputId": "0a70d2d9-5eb3-4507-b63f-24cafc2dadb3"
      },
      "source": [
        "#testing for SGD Optimizer \n",
        "\n",
        "test_acc_metric = tf.keras.metrics.SparseCategoricalAccuracy()\n",
        "for image_batch, label_batch in test_data:\n",
        "    test_acc_metric(label_batch, model(image_batch))\n",
        "print(\"Test acc: {}\".format(test_acc_metric.result()))"
      ],
      "execution_count": null,
      "outputs": [
        {
          "name": "stdout",
          "output_type": "stream",
          "text": [
            "Test acc: 0.6256999969482422\n"
          ]
        }
      ]
    },
    {
      "cell_type": "markdown",
      "metadata": {
        "id": "x89zNQEAkVY-"
      },
      "source": [
        "# Exp 1.2   Custom model + Adam Optimizer "
      ]
    },
    {
      "cell_type": "code",
      "metadata": {
        "colab": {
          "base_uri": "https://localhost:8080/"
        },
        "id": "4-aH97r-8lPf",
        "outputId": "d36f1259-a363-4a8a-cca5-e583a6bd9bd8"
      },
      "source": [
        "optimizer = tf.optimizers.Adam()\n",
        "loss_fn = tf.losses.SparseCategoricalCrossentropy(from_logits=True)\n",
        "\n",
        "#model \n",
        "model = Sequential()\n",
        "model.add(Conv2D(32, (3, 3), activation='relu', kernel_initializer='he_uniform', padding='same', input_shape=(32, 32, 3)))\n",
        "model.add(Conv2D(32, (3, 3), activation='relu', kernel_initializer='he_uniform', padding='same'))\n",
        "model.add(MaxPooling2D((2, 2)))\n",
        "model.add(Flatten())\n",
        "model.add(Dense(128, activation='relu', kernel_initializer='he_uniform'))\n",
        "model.add(Dense(10, activation='softmax'))\n",
        "\n",
        "\n",
        "train_model_2(5,128) #Training"
      ],
      "execution_count": null,
      "outputs": [
        {
          "name": "stdout",
          "output_type": "stream",
          "text": [
            "\n",
            "Start of epoch 0\n"
          ]
        },
        {
          "name": "stderr",
          "output_type": "stream",
          "text": [
            "/usr/local/lib/python3.7/dist-packages/keras/backend.py:4907: UserWarning: \"`sparse_categorical_crossentropy` received `from_logits=True`, but the `output` argument was produced by a sigmoid or softmax activation and thus does not represent logits. Was this intended?\"\n",
            "  '\"`sparse_categorical_crossentropy` received `from_logits=True`, but '\n"
          ]
        },
        {
          "name": "stdout",
          "output_type": "stream",
          "text": [
            "Training loss (for one batch) at step 0: 7.5137\n",
            "Seen so far: 128 samples\n",
            "Training loss (for one batch) at step 100: 1.7004\n",
            "Seen so far: 12928 samples\n",
            "Training loss (for one batch) at step 200: 1.3516\n",
            "Seen so far: 25728 samples\n",
            "Training loss (for one batch) at step 300: 1.5171\n",
            "Seen so far: 38528 samples\n",
            "Training loss (for one batch) at step 400: 0.9402\n",
            "Seen so far: 51328 samples\n",
            "Training loss (for one batch) at step 500: 1.3761\n",
            "Seen so far: 64128 samples\n",
            "Training loss (for one batch) at step 600: 0.9737\n",
            "Seen so far: 76928 samples\n",
            "Training loss (for one batch) at step 700: 1.0625\n",
            "Seen so far: 89728 samples\n",
            "Training acc over epoch: 0.5359\n",
            "Validation acc: 0.6187\n",
            "Time taken: 392.61s\n",
            "\n",
            "Start of epoch 1\n",
            "Training loss (for one batch) at step 0: 1.2436\n",
            "Seen so far: 128 samples\n",
            "Training loss (for one batch) at step 100: 0.9081\n",
            "Seen so far: 12928 samples\n",
            "Training loss (for one batch) at step 200: 1.0084\n",
            "Seen so far: 25728 samples\n",
            "Training loss (for one batch) at step 300: 0.9223\n",
            "Seen so far: 38528 samples\n",
            "Training loss (for one batch) at step 400: 0.7591\n",
            "Seen so far: 51328 samples\n",
            "Training loss (for one batch) at step 500: 0.7918\n",
            "Seen so far: 64128 samples\n",
            "Training loss (for one batch) at step 600: 0.7500\n",
            "Seen so far: 76928 samples\n",
            "Training loss (for one batch) at step 700: 1.0440\n",
            "Seen so far: 89728 samples\n",
            "Training acc over epoch: 0.6970\n",
            "Validation acc: 0.6601\n",
            "Time taken: 333.49s\n",
            "\n",
            "Start of epoch 2\n",
            "Training loss (for one batch) at step 0: 0.6963\n",
            "Seen so far: 128 samples\n",
            "Training loss (for one batch) at step 100: 0.4992\n",
            "Seen so far: 12928 samples\n",
            "Training loss (for one batch) at step 200: 0.6849\n",
            "Seen so far: 25728 samples\n",
            "Training loss (for one batch) at step 300: 0.8298\n",
            "Seen so far: 38528 samples\n",
            "Training loss (for one batch) at step 400: 0.7814\n",
            "Seen so far: 51328 samples\n",
            "Training loss (for one batch) at step 500: 0.6213\n",
            "Seen so far: 64128 samples\n",
            "Training loss (for one batch) at step 600: 0.6711\n",
            "Seen so far: 76928 samples\n",
            "Training loss (for one batch) at step 700: 0.5757\n",
            "Seen so far: 89728 samples\n",
            "Training acc over epoch: 0.7631\n",
            "Validation acc: 0.6681\n",
            "Time taken: 332.14s\n",
            "\n",
            "Start of epoch 3\n",
            "Training loss (for one batch) at step 0: 0.5151\n",
            "Seen so far: 128 samples\n",
            "Training loss (for one batch) at step 100: 0.5001\n",
            "Seen so far: 12928 samples\n",
            "Training loss (for one batch) at step 200: 0.6489\n",
            "Seen so far: 25728 samples\n",
            "Training loss (for one batch) at step 300: 0.6311\n",
            "Seen so far: 38528 samples\n",
            "Training loss (for one batch) at step 400: 0.4387\n",
            "Seen so far: 51328 samples\n",
            "Training loss (for one batch) at step 500: 0.4118\n",
            "Seen so far: 64128 samples\n",
            "Training loss (for one batch) at step 600: 0.5859\n",
            "Seen so far: 76928 samples\n",
            "Training loss (for one batch) at step 700: 0.5233\n",
            "Seen so far: 89728 samples\n",
            "Training acc over epoch: 0.8133\n",
            "Validation acc: 0.6697\n",
            "Time taken: 329.87s\n",
            "\n",
            "Start of epoch 4\n",
            "Training loss (for one batch) at step 0: 0.3966\n",
            "Seen so far: 128 samples\n",
            "Training loss (for one batch) at step 100: 0.5070\n",
            "Seen so far: 12928 samples\n",
            "Training loss (for one batch) at step 200: 0.4002\n",
            "Seen so far: 25728 samples\n",
            "Training loss (for one batch) at step 300: 0.4857\n",
            "Seen so far: 38528 samples\n",
            "Training loss (for one batch) at step 400: 0.3392\n",
            "Seen so far: 51328 samples\n",
            "Training loss (for one batch) at step 500: 0.4126\n",
            "Seen so far: 64128 samples\n",
            "Training loss (for one batch) at step 600: 0.4495\n",
            "Seen so far: 76928 samples\n",
            "Training loss (for one batch) at step 700: 0.3855\n",
            "Seen so far: 89728 samples\n",
            "Training acc over epoch: 0.8584\n",
            "Validation acc: 0.6607\n",
            "Time taken: 328.93s\n"
          ]
        }
      ]
    },
    {
      "cell_type": "code",
      "metadata": {
        "colab": {
          "base_uri": "https://localhost:8080/"
        },
        "id": "db-jDo4DFJWO",
        "outputId": "b4b61b2e-b983-48ad-d0b7-8d6810936682"
      },
      "source": [
        "#testing for adam optimizer \n",
        "\n",
        "test_acc_metric = tf.keras.metrics.SparseCategoricalAccuracy()\n",
        "for image_batch, label_batch in test_data:\n",
        "    test_acc_metric(label_batch, model(image_batch))\n",
        "print(\"Test acc: {}\".format(test_acc_metric.result()))"
      ],
      "execution_count": null,
      "outputs": [
        {
          "name": "stdout",
          "output_type": "stream",
          "text": [
            "Test acc: 0.6607000231742859\n"
          ]
        }
      ]
    },
    {
      "cell_type": "markdown",
      "metadata": {
        "id": "jIix2PCAmrII"
      },
      "source": [
        "# Exp 1.2   Custom model + RMSprop Optimizer "
      ]
    },
    {
      "cell_type": "code",
      "metadata": {
        "colab": {
          "base_uri": "https://localhost:8080/"
        },
        "id": "cAKkesH0Ff96",
        "outputId": "38d4f56b-a72b-4c81-a957-e90599595be8"
      },
      "source": [
        "\n",
        "loss_fn = tf.losses.SparseCategoricalCrossentropy(from_logits=True)\n",
        "optimizer = tf.keras.optimizers.RMSprop(learning_rate=0.1)\n",
        "\n",
        "#model \n",
        "model = Sequential()\n",
        "model.add(Conv2D(32, (3, 3), activation='relu', kernel_initializer='he_uniform', padding='same', input_shape=(32, 32, 3)))\n",
        "model.add(Conv2D(32, (3, 3), activation='relu', kernel_initializer='he_uniform', padding='same'))\n",
        "model.add(MaxPooling2D((2, 2)))\n",
        "model.add(Flatten())\n",
        "model.add(Dense(128, activation='relu', kernel_initializer='he_uniform'))\n",
        "model.add(Dense(10, activation='softmax'))\n",
        "\n",
        "\n",
        "train_model_2(5,128)"
      ],
      "execution_count": null,
      "outputs": [
        {
          "name": "stdout",
          "output_type": "stream",
          "text": [
            "\n",
            "Start of epoch 0\n"
          ]
        },
        {
          "name": "stderr",
          "output_type": "stream",
          "text": [
            "/usr/local/lib/python3.7/dist-packages/keras/backend.py:4907: UserWarning: \"`sparse_categorical_crossentropy` received `from_logits=True`, but the `output` argument was produced by a sigmoid or softmax activation and thus does not represent logits. Was this intended?\"\n",
            "  '\"`sparse_categorical_crossentropy` received `from_logits=True`, but '\n"
          ]
        },
        {
          "name": "stdout",
          "output_type": "stream",
          "text": [
            "Training loss (for one batch) at step 0: 2.3699\n",
            "Seen so far: 128 samples\n",
            "Training loss (for one batch) at step 100: 2.2349\n",
            "Seen so far: 12928 samples\n",
            "Training loss (for one batch) at step 200: 2.3127\n",
            "Seen so far: 25728 samples\n",
            "Training loss (for one batch) at step 300: 2.3122\n",
            "Seen so far: 38528 samples\n",
            "Training loss (for one batch) at step 400: 2.3121\n",
            "Seen so far: 51328 samples\n",
            "Training loss (for one batch) at step 500: 2.3271\n",
            "Seen so far: 64128 samples\n",
            "Training loss (for one batch) at step 600: 2.2991\n",
            "Seen so far: 76928 samples\n",
            "Training loss (for one batch) at step 700: 2.3108\n",
            "Seen so far: 89728 samples\n",
            "Training acc over epoch: 0.1062\n",
            "Validation acc: 0.1000\n",
            "Time taken: 338.99s\n",
            "\n",
            "Start of epoch 1\n",
            "Training loss (for one batch) at step 0: 2.3088\n",
            "Seen so far: 128 samples\n",
            "Training loss (for one batch) at step 100: 2.3131\n",
            "Seen so far: 12928 samples\n",
            "Training loss (for one batch) at step 200: 2.3003\n",
            "Seen so far: 25728 samples\n",
            "Training loss (for one batch) at step 300: 2.3148\n",
            "Seen so far: 38528 samples\n",
            "Training loss (for one batch) at step 400: 2.3068\n",
            "Seen so far: 51328 samples\n",
            "Training loss (for one batch) at step 500: 2.3083\n",
            "Seen so far: 64128 samples\n",
            "Training loss (for one batch) at step 600: 2.3168\n",
            "Seen so far: 76928 samples\n",
            "Training loss (for one batch) at step 700: 2.3066\n",
            "Seen so far: 89728 samples\n",
            "Training acc over epoch: 0.0979\n",
            "Validation acc: 0.1000\n",
            "Time taken: 392.57s\n",
            "\n",
            "Start of epoch 2\n",
            "Training loss (for one batch) at step 0: 2.3261\n",
            "Seen so far: 128 samples\n",
            "Training loss (for one batch) at step 100: 2.3205\n",
            "Seen so far: 12928 samples\n",
            "Training loss (for one batch) at step 200: 2.3308\n",
            "Seen so far: 25728 samples\n",
            "Training loss (for one batch) at step 300: 2.2991\n",
            "Seen so far: 38528 samples\n",
            "Training loss (for one batch) at step 400: 2.3053\n",
            "Seen so far: 51328 samples\n",
            "Training loss (for one batch) at step 500: 2.3058\n",
            "Seen so far: 64128 samples\n",
            "Training loss (for one batch) at step 600: 2.3155\n",
            "Seen so far: 76928 samples\n",
            "Training loss (for one batch) at step 700: 2.3016\n",
            "Seen so far: 89728 samples\n",
            "Training acc over epoch: 0.0994\n",
            "Validation acc: 0.1000\n",
            "Time taken: 390.12s\n",
            "\n",
            "Start of epoch 3\n",
            "Training loss (for one batch) at step 0: 2.3155\n",
            "Seen so far: 128 samples\n",
            "Training loss (for one batch) at step 100: 2.3060\n",
            "Seen so far: 12928 samples\n",
            "Training loss (for one batch) at step 200: 2.2974\n",
            "Seen so far: 25728 samples\n",
            "Training loss (for one batch) at step 300: 2.3127\n",
            "Seen so far: 38528 samples\n",
            "Training loss (for one batch) at step 400: 2.3180\n",
            "Seen so far: 51328 samples\n",
            "Training loss (for one batch) at step 500: 2.3090\n",
            "Seen so far: 64128 samples\n",
            "Training loss (for one batch) at step 600: 2.2877\n",
            "Seen so far: 76928 samples\n",
            "Training loss (for one batch) at step 700: 2.3156\n",
            "Seen so far: 89728 samples\n",
            "Training acc over epoch: 0.1007\n",
            "Validation acc: 0.1000\n",
            "Time taken: 392.59s\n",
            "\n",
            "Start of epoch 4\n",
            "Training loss (for one batch) at step 0: 2.3097\n",
            "Seen so far: 128 samples\n",
            "Training loss (for one batch) at step 100: 2.3125\n",
            "Seen so far: 12928 samples\n",
            "Training loss (for one batch) at step 200: 2.3031\n",
            "Seen so far: 25728 samples\n",
            "Training loss (for one batch) at step 300: 2.3092\n",
            "Seen so far: 38528 samples\n",
            "Training loss (for one batch) at step 400: 2.3121\n",
            "Seen so far: 51328 samples\n",
            "Training loss (for one batch) at step 500: 2.3111\n",
            "Seen so far: 64128 samples\n",
            "Training loss (for one batch) at step 600: 2.3185\n",
            "Seen so far: 76928 samples\n",
            "Training loss (for one batch) at step 700: 2.2824\n",
            "Seen so far: 89728 samples\n",
            "Training acc over epoch: 0.1003\n",
            "Validation acc: 0.1000\n",
            "Time taken: 392.58s\n"
          ]
        }
      ]
    },
    {
      "cell_type": "markdown",
      "metadata": {
        "id": "BosWNlItl788"
      },
      "source": [
        "# **Test observations for optimizers**\n",
        "\n",
        "Epochs = 5, Batch Size = 128\n",
        "\n",
        "Test1: SGD Optimizer \n",
        "\n",
        "> *training accuracy:66.09% & test accuracy: 62.5%\n",
        "\n",
        "Test 2: ADAM Optimizer\n",
        "\n",
        "> Training accuracy:85.84% & test accuracy 66.07%\n",
        "\n",
        "Test 3: RMSprop optimizer\n",
        "\n",
        "\n",
        "> Training accuracy 10% & test accuracy 10%\n",
        "\n",
        "Although, we got the best test accuracy for ADAM optimiser, considering the difference between the test and training accuracy, its clear that, there is overfitting. In the following sections, we have tried experiments to reduce the overfitting. "
      ]
    },
    {
      "cell_type": "markdown",
      "metadata": {
        "id": "ndp-Wd2li1Ul"
      },
      "source": [
        "# **Experiment 2: Experiments to reduce overfitting**\n",
        "\n",
        "Methods adopted: Dropout Layer, Batch Normalization, Weight Decay "
      ]
    },
    {
      "cell_type": "markdown",
      "metadata": {
        "id": "o4AVmRZQoSHq"
      },
      "source": [
        "# Exp 2.1   Custom model with ADAM optimizer and dropout layers "
      ]
    },
    {
      "cell_type": "code",
      "metadata": {
        "colab": {
          "base_uri": "https://localhost:8080/"
        },
        "id": "Tj3379zsyX3a",
        "outputId": "ef109fde-3ddb-4cbf-a16e-f52b5fb27dbb"
      },
      "source": [
        "\n",
        "optimizer = tf.optimizers.Adam()\n",
        "loss_fn = tf.losses.SparseCategoricalCrossentropy(from_logits=True)\n",
        "\n",
        "model = Sequential()\n",
        "model.add(Conv2D(32, (3, 3), activation='relu', kernel_initializer='he_uniform', padding='same', input_shape=(32, 32, 3)))\n",
        "model.add(Conv2D(32, (3, 3), activation='relu', kernel_initializer='he_uniform', padding='same'))\n",
        "model.add(MaxPooling2D((2, 2)))\n",
        "model.add(Dropout(0.2))\n",
        "model.add(Flatten())\n",
        "model.add(Dense(128, activation='relu', kernel_initializer='he_uniform'))\n",
        "model.add(Dropout(0.2)) #20 percent dropout\n",
        "model.add(Dense(10, activation='softmax'))\n",
        "\n",
        "train_model_2 (5,128)"
      ],
      "execution_count": null,
      "outputs": [
        {
          "name": "stdout",
          "output_type": "stream",
          "text": [
            "\n",
            "Start of epoch 0\n"
          ]
        },
        {
          "name": "stderr",
          "output_type": "stream",
          "text": [
            "/usr/local/lib/python3.7/dist-packages/keras/backend.py:4907: UserWarning: \"`sparse_categorical_crossentropy` received `from_logits=True`, but the `output` argument was produced by a sigmoid or softmax activation and thus does not represent logits. Was this intended?\"\n",
            "  '\"`sparse_categorical_crossentropy` received `from_logits=True`, but '\n"
          ]
        },
        {
          "name": "stdout",
          "output_type": "stream",
          "text": [
            "Training loss (for one batch) at step 0: 2.4486\n",
            "Seen so far: 128 samples\n",
            "Training loss (for one batch) at step 100: 1.5876\n",
            "Seen so far: 12928 samples\n",
            "Training loss (for one batch) at step 200: 1.4701\n",
            "Seen so far: 25728 samples\n",
            "Training loss (for one batch) at step 300: 1.3485\n",
            "Seen so far: 38528 samples\n",
            "Training loss (for one batch) at step 400: 1.2107\n",
            "Seen so far: 51328 samples\n",
            "Training loss (for one batch) at step 500: 1.1147\n",
            "Seen so far: 64128 samples\n",
            "Training loss (for one batch) at step 600: 1.3436\n",
            "Seen so far: 76928 samples\n",
            "Training loss (for one batch) at step 700: 1.0103\n",
            "Seen so far: 89728 samples\n",
            "Training acc over epoch: 0.4951\n",
            "Validation acc: 0.6339\n",
            "Time taken: 390.01s\n",
            "\n",
            "Start of epoch 1\n",
            "Training loss (for one batch) at step 0: 1.0536\n",
            "Seen so far: 128 samples\n",
            "Training loss (for one batch) at step 100: 0.9631\n",
            "Seen so far: 12928 samples\n",
            "Training loss (for one batch) at step 200: 1.1246\n",
            "Seen so far: 25728 samples\n",
            "Training loss (for one batch) at step 300: 0.8903\n",
            "Seen so far: 38528 samples\n",
            "Training loss (for one batch) at step 400: 1.0889\n",
            "Seen so far: 51328 samples\n",
            "Training loss (for one batch) at step 500: 0.9468\n",
            "Seen so far: 64128 samples\n",
            "Training loss (for one batch) at step 600: 0.9067\n",
            "Seen so far: 76928 samples\n",
            "Training loss (for one batch) at step 700: 0.8702\n",
            "Seen so far: 89728 samples\n",
            "Training acc over epoch: 0.6387\n",
            "Validation acc: 0.6612\n",
            "Time taken: 332.98s\n",
            "\n",
            "Start of epoch 2\n",
            "Training loss (for one batch) at step 0: 0.9721\n",
            "Seen so far: 128 samples\n",
            "Training loss (for one batch) at step 100: 0.8143\n",
            "Seen so far: 12928 samples\n",
            "Training loss (for one batch) at step 200: 0.9783\n",
            "Seen so far: 25728 samples\n",
            "Training loss (for one batch) at step 300: 0.9506\n",
            "Seen so far: 38528 samples\n",
            "Training loss (for one batch) at step 400: 0.7713\n",
            "Seen so far: 51328 samples\n",
            "Training loss (for one batch) at step 500: 1.0249\n",
            "Seen so far: 64128 samples\n",
            "Training loss (for one batch) at step 600: 1.0038\n",
            "Seen so far: 76928 samples\n",
            "Training loss (for one batch) at step 700: 1.0549\n",
            "Seen so far: 89728 samples\n",
            "Training acc over epoch: 0.6858\n",
            "Validation acc: 0.6785\n",
            "Time taken: 335.37s\n",
            "\n",
            "Start of epoch 3\n",
            "Training loss (for one batch) at step 0: 0.7773\n",
            "Seen so far: 128 samples\n",
            "Training loss (for one batch) at step 100: 0.7745\n",
            "Seen so far: 12928 samples\n",
            "Training loss (for one batch) at step 200: 0.8797\n",
            "Seen so far: 25728 samples\n",
            "Training loss (for one batch) at step 300: 0.7676\n",
            "Seen so far: 38528 samples\n",
            "Training loss (for one batch) at step 400: 0.6924\n",
            "Seen so far: 51328 samples\n",
            "Training loss (for one batch) at step 500: 0.6135\n",
            "Seen so far: 64128 samples\n",
            "Training loss (for one batch) at step 600: 0.7918\n",
            "Seen so far: 76928 samples\n",
            "Training loss (for one batch) at step 700: 0.8390\n",
            "Seen so far: 89728 samples\n",
            "Training acc over epoch: 0.7186\n",
            "Validation acc: 0.6856\n",
            "Time taken: 337.50s\n",
            "\n",
            "Start of epoch 4\n",
            "Training loss (for one batch) at step 0: 0.7512\n",
            "Seen so far: 128 samples\n",
            "Training loss (for one batch) at step 100: 0.6660\n",
            "Seen so far: 12928 samples\n",
            "Training loss (for one batch) at step 200: 0.7956\n",
            "Seen so far: 25728 samples\n",
            "Training loss (for one batch) at step 300: 0.7619\n",
            "Seen so far: 38528 samples\n",
            "Training loss (for one batch) at step 400: 0.6089\n",
            "Seen so far: 51328 samples\n",
            "Training loss (for one batch) at step 500: 0.6199\n",
            "Seen so far: 64128 samples\n",
            "Training loss (for one batch) at step 600: 0.6615\n",
            "Seen so far: 76928 samples\n",
            "Training loss (for one batch) at step 700: 0.8028\n",
            "Seen so far: 89728 samples\n",
            "Training acc over epoch: 0.7460\n",
            "Validation acc: 0.6820\n",
            "Time taken: 335.49s\n"
          ]
        }
      ]
    },
    {
      "cell_type": "code",
      "metadata": {
        "colab": {
          "base_uri": "https://localhost:8080/"
        },
        "id": "1T5TZ5SN7Ff4",
        "outputId": "7cb27395-bf5e-49c5-918b-eabfbab786cc"
      },
      "source": [
        "test_acc_metric = tf.keras.metrics.SparseCategoricalAccuracy()\n",
        "for image_batch, label_batch in test_data:\n",
        "    test_acc_metric(label_batch, model(image_batch))\n",
        "print(\"Test acc: {}\".format(test_acc_metric.result()))"
      ],
      "execution_count": null,
      "outputs": [
        {
          "name": "stdout",
          "output_type": "stream",
          "text": [
            "Test acc: 0.6819999814033508\n"
          ]
        }
      ]
    },
    {
      "cell_type": "markdown",
      "metadata": {
        "id": "tS6eHd01qtBr"
      },
      "source": [
        "# Exp 2.2   Custom model with ADAM optimizer and weight Decay "
      ]
    },
    {
      "cell_type": "code",
      "metadata": {
        "colab": {
          "base_uri": "https://localhost:8080/"
        },
        "id": "MnZz4A7R7ZHf",
        "outputId": "2232b647-6e96-4bbf-e21a-13fefa21c14a"
      },
      "source": [
        "#In this section, we have used a weight decay to avoid the overfitting overserved in the baseline\n",
        "\n",
        "#Optimiser and Loss Function\n",
        "optimizer = tf.optimizers.Adam()\n",
        "loss_fn = tf.losses.SparseCategoricalCrossentropy(from_logits=True)\n",
        "\n",
        "model = Sequential()\n",
        "model.add(Conv2D(32, (3, 3), activation='relu', kernel_initializer='he_uniform', padding='same', kernel_regularizer=l2(0.001), input_shape=(32, 32, 3)))\n",
        "model.add(Conv2D(32, (3, 3), activation='relu', kernel_initializer='he_uniform', padding='same', kernel_regularizer=l2(0.001)))\n",
        "model.add(MaxPooling2D((2, 2)))\n",
        "model.add(Flatten())\n",
        "model.add(Dense(128, activation='relu', kernel_initializer='he_uniform',kernel_regularizer=l2(0.001)))\n",
        "model.add(Dense(10, activation='softmax'))\n",
        "\n",
        "train_model_2 (5,128)"
      ],
      "execution_count": null,
      "outputs": [
        {
          "name": "stdout",
          "output_type": "stream",
          "text": [
            "\n",
            "Start of epoch 0\n"
          ]
        },
        {
          "name": "stderr",
          "output_type": "stream",
          "text": [
            "/usr/local/lib/python3.7/dist-packages/keras/backend.py:4907: UserWarning: \"`sparse_categorical_crossentropy` received `from_logits=True`, but the `output` argument was produced by a sigmoid or softmax activation and thus does not represent logits. Was this intended?\"\n",
            "  '\"`sparse_categorical_crossentropy` received `from_logits=True`, but '\n"
          ]
        },
        {
          "name": "stdout",
          "output_type": "stream",
          "text": [
            "Training loss (for one batch) at step 0: 2.6534\n",
            "Seen so far: 128 samples\n",
            "Training loss (for one batch) at step 100: 1.5958\n",
            "Seen so far: 12928 samples\n",
            "Training loss (for one batch) at step 200: 1.3244\n",
            "Seen so far: 25728 samples\n",
            "Training loss (for one batch) at step 300: 1.1655\n",
            "Seen so far: 38528 samples\n",
            "Training loss (for one batch) at step 400: 1.2112\n",
            "Seen so far: 51328 samples\n",
            "Training loss (for one batch) at step 500: 1.0835\n",
            "Seen so far: 64128 samples\n",
            "Training loss (for one batch) at step 600: 0.8673\n",
            "Seen so far: 76928 samples\n",
            "Training loss (for one batch) at step 700: 1.0028\n",
            "Seen so far: 89728 samples\n",
            "Training acc over epoch: 0.5637\n",
            "Validation acc: 0.6413\n",
            "Time taken: 326.90s\n",
            "\n",
            "Start of epoch 1\n",
            "Training loss (for one batch) at step 0: 0.8427\n",
            "Seen so far: 128 samples\n",
            "Training loss (for one batch) at step 100: 0.7695\n",
            "Seen so far: 12928 samples\n",
            "Training loss (for one batch) at step 200: 0.8609\n",
            "Seen so far: 25728 samples\n",
            "Training loss (for one batch) at step 300: 0.8927\n",
            "Seen so far: 38528 samples\n",
            "Training loss (for one batch) at step 400: 0.9456\n",
            "Seen so far: 51328 samples\n",
            "Training loss (for one batch) at step 500: 0.8418\n",
            "Seen so far: 64128 samples\n",
            "Training loss (for one batch) at step 600: 0.8991\n",
            "Seen so far: 76928 samples\n",
            "Training loss (for one batch) at step 700: 0.9096\n",
            "Seen so far: 89728 samples\n",
            "Training acc over epoch: 0.7070\n",
            "Validation acc: 0.6736\n",
            "Time taken: 328.58s\n",
            "\n",
            "Start of epoch 2\n",
            "Training loss (for one batch) at step 0: 0.7455\n",
            "Seen so far: 128 samples\n",
            "Training loss (for one batch) at step 100: 0.7200\n",
            "Seen so far: 12928 samples\n",
            "Training loss (for one batch) at step 200: 0.6009\n",
            "Seen so far: 25728 samples\n",
            "Training loss (for one batch) at step 300: 0.7339\n",
            "Seen so far: 38528 samples\n",
            "Training loss (for one batch) at step 400: 0.6007\n",
            "Seen so far: 51328 samples\n",
            "Training loss (for one batch) at step 500: 0.6199\n",
            "Seen so far: 64128 samples\n",
            "Training loss (for one batch) at step 600: 0.6097\n",
            "Seen so far: 76928 samples\n",
            "Training loss (for one batch) at step 700: 0.7838\n",
            "Seen so far: 89728 samples\n",
            "Training acc over epoch: 0.7669\n",
            "Validation acc: 0.6752\n",
            "Time taken: 323.22s\n",
            "\n",
            "Start of epoch 3\n",
            "Training loss (for one batch) at step 0: 0.4310\n",
            "Seen so far: 128 samples\n",
            "Training loss (for one batch) at step 100: 0.5780\n",
            "Seen so far: 12928 samples\n",
            "Training loss (for one batch) at step 200: 0.6018\n",
            "Seen so far: 25728 samples\n",
            "Training loss (for one batch) at step 300: 0.5508\n",
            "Seen so far: 38528 samples\n",
            "Training loss (for one batch) at step 400: 0.3900\n",
            "Seen so far: 51328 samples\n",
            "Training loss (for one batch) at step 500: 0.5983\n",
            "Seen so far: 64128 samples\n",
            "Training loss (for one batch) at step 600: 0.4621\n",
            "Seen so far: 76928 samples\n",
            "Training loss (for one batch) at step 700: 0.6199\n",
            "Seen so far: 89728 samples\n",
            "Training acc over epoch: 0.8188\n",
            "Validation acc: 0.6459\n",
            "Time taken: 332.81s\n",
            "\n",
            "Start of epoch 4\n",
            "Training loss (for one batch) at step 0: 0.3811\n",
            "Seen so far: 128 samples\n",
            "Training loss (for one batch) at step 100: 0.3938\n",
            "Seen so far: 12928 samples\n",
            "Training loss (for one batch) at step 200: 0.3463\n",
            "Seen so far: 25728 samples\n",
            "Training loss (for one batch) at step 300: 0.4974\n",
            "Seen so far: 38528 samples\n",
            "Training loss (for one batch) at step 400: 0.2714\n",
            "Seen so far: 51328 samples\n",
            "Training loss (for one batch) at step 500: 0.4462\n",
            "Seen so far: 64128 samples\n",
            "Training loss (for one batch) at step 600: 0.3752\n",
            "Seen so far: 76928 samples\n",
            "Training loss (for one batch) at step 700: 0.3142\n",
            "Seen so far: 89728 samples\n",
            "Training acc over epoch: 0.8664\n",
            "Validation acc: 0.6690\n",
            "Time taken: 326.38s\n"
          ]
        }
      ]
    },
    {
      "cell_type": "markdown",
      "metadata": {
        "id": "5uSzF79gi1Um"
      },
      "source": [
        "# **Test observations for dropout layers and weight decay**\n",
        "\n",
        "Epochs = 5, Batch Size = 128\n",
        "\n",
        "Test1: Dropout Layers  \n",
        "\n",
        "> *training accuracy:74.6% & test accuracy: 68.2%\n",
        "\n",
        "Test 2:  Weight Decay\n",
        "\n",
        "> Training accuracy:86.66% & test accuracy: 66.9%\n",
        "\n",
        "\n",
        "It can be observed above that weight decay did not contribute much to the reduction of overfitting(for the number of epochs and batch size) whereas using dropout layers has significantly reduced the overfitting, hence in the following section we have combined batch normalization with dropout layer to observe if it could contribute to further reduction in overfitting. "
      ]
    },
    {
      "cell_type": "markdown",
      "metadata": {
        "id": "YVKX8qJAqjjG"
      },
      "source": [
        "# Exp 2.3   Custom model with ADAM optimizer, dropout layers and batch normalization"
      ]
    },
    {
      "cell_type": "code",
      "metadata": {
        "colab": {
          "base_uri": "https://localhost:8080/"
        },
        "id": "nvKRPaLlfBbJ",
        "outputId": "8d35ca01-ef68-4abc-dd02-07ea3f1ee98b"
      },
      "source": [
        "optimizer = tf.optimizers.Adam()\n",
        "loss_fn = tf.losses.SparseCategoricalCrossentropy(from_logits=True)\n",
        " \n",
        "model = Sequential()\n",
        "model.add(Conv2D(32, (3, 3), activation='relu', kernel_initializer='he_uniform', padding='same', input_shape=(32, 32, 3)))\n",
        "model.add(BatchNormalization())\n",
        "model.add(Conv2D(32, (3, 3), activation='relu', kernel_initializer='he_uniform', padding='same'))\n",
        "model.add(BatchNormalization())\n",
        "model.add(MaxPooling2D((2, 2)))\n",
        "model.add(Dropout(0.2))\n",
        "model.add(Flatten())\n",
        "model.add(Dense(128, activation='relu', kernel_initializer='he_uniform'))\n",
        "model.add(BatchNormalization())\n",
        "model.add(Dropout(0.2))\n",
        "model.add(Dense(10, activation='softmax'))\n",
        " \n",
        "train_model_2 (5,128)"
      ],
      "execution_count": null,
      "outputs": [
        {
          "name": "stdout",
          "output_type": "stream",
          "text": [
            "\n",
            "Start of epoch 0\n"
          ]
        },
        {
          "name": "stderr",
          "output_type": "stream",
          "text": [
            "/usr/local/lib/python3.7/dist-packages/keras/backend.py:4907: UserWarning: \"`sparse_categorical_crossentropy` received `from_logits=True`, but the `output` argument was produced by a sigmoid or softmax activation and thus does not represent logits. Was this intended?\"\n",
            "  '\"`sparse_categorical_crossentropy` received `from_logits=True`, but '\n"
          ]
        },
        {
          "name": "stdout",
          "output_type": "stream",
          "text": [
            "Training loss (for one batch) at step 0: 3.0577\n",
            "Seen so far: 128 samples\n",
            "Training loss (for one batch) at step 100: 1.5211\n",
            "Seen so far: 12928 samples\n",
            "Training loss (for one batch) at step 200: 1.1060\n",
            "Seen so far: 25728 samples\n",
            "Training loss (for one batch) at step 300: 1.2439\n",
            "Seen so far: 38528 samples\n",
            "Training loss (for one batch) at step 400: 1.0224\n",
            "Seen so far: 51328 samples\n",
            "Training loss (for one batch) at step 500: 1.0829\n",
            "Seen so far: 64128 samples\n",
            "Training loss (for one batch) at step 600: 1.0676\n",
            "Seen so far: 76928 samples\n",
            "Training loss (for one batch) at step 700: 0.9349\n",
            "Seen so far: 89728 samples\n",
            "Training acc over epoch: 0.5854\n",
            "Validation acc: 0.6518\n",
            "Time taken: 439.73s\n",
            "\n",
            "Start of epoch 1\n",
            "Training loss (for one batch) at step 0: 0.9646\n",
            "Seen so far: 128 samples\n",
            "Training loss (for one batch) at step 100: 0.8443\n",
            "Seen so far: 12928 samples\n",
            "Training loss (for one batch) at step 200: 0.8559\n",
            "Seen so far: 25728 samples\n",
            "Training loss (for one batch) at step 300: 0.8011\n",
            "Seen so far: 38528 samples\n",
            "Training loss (for one batch) at step 400: 0.6469\n",
            "Seen so far: 51328 samples\n",
            "Training loss (for one batch) at step 500: 0.6429\n",
            "Seen so far: 64128 samples\n",
            "Training loss (for one batch) at step 600: 0.6810\n",
            "Seen so far: 76928 samples\n",
            "Training loss (for one batch) at step 700: 0.6509\n",
            "Seen so far: 89728 samples\n",
            "Training acc over epoch: 0.7358\n",
            "Validation acc: 0.6817\n",
            "Time taken: 436.75s\n",
            "\n",
            "Start of epoch 2\n",
            "Training loss (for one batch) at step 0: 0.5140\n",
            "Seen so far: 128 samples\n",
            "Training loss (for one batch) at step 100: 0.5302\n",
            "Seen so far: 12928 samples\n",
            "Training loss (for one batch) at step 200: 0.5512\n",
            "Seen so far: 25728 samples\n",
            "Training loss (for one batch) at step 300: 0.7090\n",
            "Seen so far: 38528 samples\n",
            "Training loss (for one batch) at step 400: 0.4593\n",
            "Seen so far: 51328 samples\n",
            "Training loss (for one batch) at step 500: 0.3416\n",
            "Seen so far: 64128 samples\n",
            "Training loss (for one batch) at step 600: 0.4990\n",
            "Seen so far: 76928 samples\n",
            "Training loss (for one batch) at step 700: 0.3513\n",
            "Seen so far: 89728 samples\n",
            "Training acc over epoch: 0.8119\n",
            "Validation acc: 0.6954\n",
            "Time taken: 441.85s\n",
            "\n",
            "Start of epoch 3\n",
            "Training loss (for one batch) at step 0: 0.3823\n",
            "Seen so far: 128 samples\n",
            "Training loss (for one batch) at step 100: 0.3302\n",
            "Seen so far: 12928 samples\n",
            "Training loss (for one batch) at step 200: 0.4323\n",
            "Seen so far: 25728 samples\n",
            "Training loss (for one batch) at step 300: 0.4192\n",
            "Seen so far: 38528 samples\n",
            "Training loss (for one batch) at step 400: 0.3272\n",
            "Seen so far: 51328 samples\n",
            "Training loss (for one batch) at step 500: 0.2796\n",
            "Seen so far: 64128 samples\n",
            "Training loss (for one batch) at step 600: 0.4273\n",
            "Seen so far: 76928 samples\n",
            "Training loss (for one batch) at step 700: 0.4282\n",
            "Seen so far: 89728 samples\n",
            "Training acc over epoch: 0.8673\n",
            "Validation acc: 0.6980\n",
            "Time taken: 451.98s\n",
            "\n",
            "Start of epoch 4\n",
            "Training loss (for one batch) at step 0: 0.2275\n",
            "Seen so far: 128 samples\n",
            "Training loss (for one batch) at step 100: 0.3582\n",
            "Seen so far: 12928 samples\n",
            "Training loss (for one batch) at step 200: 0.2898\n",
            "Seen so far: 25728 samples\n",
            "Training loss (for one batch) at step 300: 0.4184\n",
            "Seen so far: 38528 samples\n",
            "Training loss (for one batch) at step 400: 0.2631\n",
            "Seen so far: 51328 samples\n",
            "Training loss (for one batch) at step 500: 0.2212\n",
            "Seen so far: 64128 samples\n",
            "Training loss (for one batch) at step 600: 0.1776\n",
            "Seen so far: 76928 samples\n",
            "Training loss (for one batch) at step 700: 0.2675\n",
            "Seen so far: 89728 samples\n",
            "Training acc over epoch: 0.9012\n",
            "Validation acc: 0.6762\n",
            "Time taken: 439.11s\n"
          ]
        }
      ]
    },
    {
      "cell_type": "markdown",
      "metadata": {
        "id": "WGGeVYHkq5jN"
      },
      "source": [
        "# **Test observations for Exp 2.3**\n",
        "\n",
        "Epochs = 5, Batch Size = 128\n",
        "\n",
        "> *training accuracy:90% & test accuracy: 67.6%\n",
        "\n",
        "\n",
        "Introducting the batch normalisation, has increased the overfitting, simple model could be one of the reason for this kind of result. \n"
      ]
    },
    {
      "cell_type": "markdown",
      "metadata": {
        "id": "cZe8u2gU1aFC"
      },
      "source": [
        "# **Experiment 3: Experimenting with different kernel sizes**\n",
        "\n",
        "In this section, we oberved the model summary to understand, how changing the kernel size could change the size and number of feature maps "
      ]
    },
    {
      "cell_type": "code",
      "metadata": {
        "colab": {
          "base_uri": "https://localhost:8080/"
        },
        "id": "RUPeW-5rJfeF",
        "outputId": "13361053-2661-456c-df8b-a2e34410d7c8"
      },
      "source": [
        "loss_fn = tf.losses.SparseCategoricalCrossentropy(from_logits=True)\n",
        "\n",
        "model = Sequential()\n",
        "model.add(Conv2D(32, (1, 1), activation='relu', kernel_initializer='he_uniform', input_shape=(32, 32, 3)))\n",
        "model.add(Conv2D(32, (1, 1), activation='relu', kernel_initializer='he_uniform'))\n",
        "model.add(MaxPooling2D((2, 2)))\n",
        "model.add(Flatten())\n",
        "model.add(Dense(128, activation='relu', kernel_initializer='he_uniform'))\n",
        "model.add(Dense(10, activation='softmax'))\n",
        "\n",
        "model.summary()"
      ],
      "execution_count": null,
      "outputs": [
        {
          "output_type": "stream",
          "name": "stdout",
          "text": [
            "Model: \"sequential_4\"\n",
            "_________________________________________________________________\n",
            "Layer (type)                 Output Shape              Param #   \n",
            "=================================================================\n",
            "conv2d_8 (Conv2D)            (None, 32, 32, 32)        128       \n",
            "_________________________________________________________________\n",
            "conv2d_9 (Conv2D)            (None, 32, 32, 32)        1056      \n",
            "_________________________________________________________________\n",
            "max_pooling2d_2 (MaxPooling2 (None, 16, 16, 32)        0         \n",
            "_________________________________________________________________\n",
            "flatten_2 (Flatten)          (None, 8192)              0         \n",
            "_________________________________________________________________\n",
            "dense_4 (Dense)              (None, 128)               1048704   \n",
            "_________________________________________________________________\n",
            "dense_5 (Dense)              (None, 10)                1290      \n",
            "=================================================================\n",
            "Total params: 1,051,178\n",
            "Trainable params: 1,051,178\n",
            "Non-trainable params: 0\n",
            "_________________________________________________________________\n"
          ]
        }
      ]
    },
    {
      "cell_type": "code",
      "metadata": {
        "colab": {
          "base_uri": "https://localhost:8080/"
        },
        "id": "HAG_E-YrO5_O",
        "outputId": "f22c2d87-b764-4d2d-a6b1-99fc62191047"
      },
      "source": [
        "loss_fn = tf.losses.SparseCategoricalCrossentropy(from_logits=True)\n",
        "\n",
        "model = Sequential()\n",
        "model.add(Conv2D(32, (32, 32), activation='relu', kernel_initializer='he_uniform', input_shape=(32, 32, 3)))\n",
        "model.add(Conv2D(32, (1, 1), activation='relu', kernel_initializer='he_uniform'))\n",
        "model.add(MaxPooling2D((1, 1)))\n",
        "model.add(Flatten())\n",
        "model.add(Dense(128, activation='relu', kernel_initializer='he_uniform'))\n",
        "model.add(Dense(10, activation='softmax'))\n",
        "\n",
        "model.summary()"
      ],
      "execution_count": null,
      "outputs": [
        {
          "output_type": "stream",
          "name": "stdout",
          "text": [
            "Model: \"sequential_5\"\n",
            "_________________________________________________________________\n",
            "Layer (type)                 Output Shape              Param #   \n",
            "=================================================================\n",
            "conv2d_10 (Conv2D)           (None, 1, 1, 32)          98336     \n",
            "_________________________________________________________________\n",
            "conv2d_11 (Conv2D)           (None, 1, 1, 32)          1056      \n",
            "_________________________________________________________________\n",
            "max_pooling2d_3 (MaxPooling2 (None, 1, 1, 32)          0         \n",
            "_________________________________________________________________\n",
            "flatten_3 (Flatten)          (None, 32)                0         \n",
            "_________________________________________________________________\n",
            "dense_6 (Dense)              (None, 128)               4224      \n",
            "_________________________________________________________________\n",
            "dense_7 (Dense)              (None, 10)                1290      \n",
            "=================================================================\n",
            "Total params: 104,906\n",
            "Trainable params: 104,906\n",
            "Non-trainable params: 0\n",
            "_________________________________________________________________\n"
          ]
        }
      ]
    },
    {
      "cell_type": "markdown",
      "metadata": {
        "id": "PlYBfwbhsNpX"
      },
      "source": [
        "# **Test observations for Exp 3**\n",
        "\n",
        "1.   When we changed the input kernel size to (1,1), the total numbe of parameters increased because, all the features were passed from one layer to another without choosing anything unique.\n",
        "2.   When we changed the kernel size to (32,32) same size as input, the output shape of layer 1 was (1,1,32) (32 being number of filters in first layer, alhough the number of parameters reduced, the learning was very poor due to filtering all the features in the first layer. \n"
      ]
    },
    {
      "cell_type": "markdown",
      "metadata": {
        "id": "65AW2SAk4ELI"
      },
      "source": [
        "# **Visualizing Feature Maps**"
      ]
    },
    {
      "cell_type": "code",
      "metadata": {
        "colab": {
          "base_uri": "https://localhost:8080/"
        },
        "id": "rXbb0C56n5Du",
        "outputId": "6e803a87-ec8e-479f-bd58-9f94f17b731b"
      },
      "source": [
        "\n",
        "from matplotlib import pyplot\n",
        "from keras.models import Model\n",
        "from matplotlib import pyplot\n",
        "from numpy import expand_dims\n",
        "from keras.preprocessing.image import img_to_array\n",
        "# summarize feature map shapes\n",
        "for i in range(len(model.layers)):\n",
        "\tlayer = model.layers[i]\n",
        "\t# check for convolutional layer\n",
        "\tif 'conv' not in layer.name:\n",
        "\t\tcontinue\n",
        "\t# summarize output shape\n",
        "\tprint(i, layer.name, layer.output.shape)"
      ],
      "execution_count": null,
      "outputs": [
        {
          "name": "stdout",
          "output_type": "stream",
          "text": [
            "0 conv2d_31_input (None, 32, 32, 3)\n",
            "1 conv2d_31 (None, 32, 32, 32)\n"
          ]
        }
      ]
    },
    {
      "cell_type": "code",
      "metadata": {
        "colab": {
          "base_uri": "https://localhost:8080/"
        },
        "id": "RPNkeZ0EogIc",
        "outputId": "d6337c0f-33e6-4086-8d20-5befa65d4d68"
      },
      "source": [
        "# redefine model to output right after the first hidden layer\n",
        "ixs = [1,3]\n",
        "outputs = [model.layers[i+1].output for i in ixs]\n",
        "modelVis = Model(inputs=model.inputs, outputs=outputs)\n",
        "modelVis.summary()"
      ],
      "execution_count": null,
      "outputs": [
        {
          "name": "stdout",
          "output_type": "stream",
          "text": [
            "Model: \"model_5\"\n",
            "_________________________________________________________________\n",
            "Layer (type)                 Output Shape              Param #   \n",
            "=================================================================\n",
            "conv2d_33_input (InputLayer) [(None, 32, 32, 3)]       0         \n",
            "_________________________________________________________________\n",
            "conv2d_33 (Conv2D)           (None, 32, 32, 32)        896       \n",
            "_________________________________________________________________\n",
            "batch_normalization_3 (Batch (None, 32, 32, 32)        128       \n",
            "_________________________________________________________________\n",
            "conv2d_34 (Conv2D)           (None, 32, 32, 32)        9248      \n",
            "_________________________________________________________________\n",
            "batch_normalization_4 (Batch (None, 32, 32, 32)        128       \n",
            "_________________________________________________________________\n",
            "max_pooling2d_15 (MaxPooling (None, 16, 16, 32)        0         \n",
            "=================================================================\n",
            "Total params: 10,400\n",
            "Trainable params: 10,272\n",
            "Non-trainable params: 128\n",
            "_________________________________________________________________\n"
          ]
        }
      ]
    },
    {
      "cell_type": "code",
      "metadata": {
        "colab": {
          "base_uri": "https://localhost:8080/",
          "height": 283
        },
        "id": "L30zvBHrorzZ",
        "outputId": "a24e7fed-19ed-43c3-a22c-d55e138ce5da"
      },
      "source": [
        "# load the image with the required shape\n",
        "img = train_images[0]\n",
        "print(\"Input Image\")\n",
        "plt.imshow(img)\n",
        "# convert the image to an array\n",
        "img = img_to_array(img)\n",
        "# expand dimensions so that it represents a single 'sample'\n",
        "img = expand_dims(img, axis=0)"
      ],
      "execution_count": null,
      "outputs": [
        {
          "name": "stdout",
          "output_type": "stream",
          "text": [
            "Input Image\n"
          ]
        },
        {
          "data": {
            "image/png": "[encoded data removed]",
            "text/plain": [
              "<Figure size 432x288 with 1 Axes>"
            ]
          },
          "metadata": {
            "needs_background": "light"
          },
          "output_type": "display_data"
        }
      ]
    },
    {
      "cell_type": "code",
      "metadata": {
        "colab": {
          "base_uri": "https://localhost:8080/",
          "height": 524
        },
        "id": "_IKxt5EWu3MK",
        "outputId": "aea8f254-26db-4017-e4ab-5164dfe2ab24"
      },
      "source": [
        "# get feature map for first hidden layer\n",
        "feature_maps = modelVis.predict(img)\n",
        "# plot all 64 maps in an 8x8 squares\n",
        "square = 5\n",
        "for fmap in feature_maps:\n",
        "\t# plot all 64 maps in an 8x8 squares\n",
        "\tix = 1\n",
        "\tfor _ in range(square):\n",
        "\t\tfor _ in range(square):\n",
        "\t\t\t# specify subplot and turn of axis\n",
        "\t\t\tax = pyplot.subplot(square, square, ix)\n",
        "\t\t\tax.set_xticks([])\n",
        "\t\t\tax.set_yticks([])\n",
        "\t\t\t# plot filter channel in grayscale\n",
        "\t\t\tpyplot.imshow(fmap[0, :, :, ix-1], cmap='gray')\n",
        "\t\t\tix += 1\n",
        "\t# show the figure\n",
        "\tpyplot.show()"
      ],
      "execution_count": null,
      "outputs": [
        {
          "name": "stdout",
          "output_type": "stream",
          "text": [
            "WARNING:tensorflow:6 out of the last 13 calls to <function Model.make_predict_function.<locals>.predict_function at 0x7fd517264050> triggered tf.function retracing. Tracing is expensive and the excessive number of tracings could be due to (1) creating @tf.function repeatedly in a loop, (2) passing tensors with different shapes, (3) passing Python objects instead of tensors. For (1), please define your @tf.function outside of the loop. For (2), @tf.function has experimental_relax_shapes=True option that relaxes argument shapes that can avoid unnecessary retracing. For (3), please refer to https://www.tensorflow.org/guide/function#controlling_retracing and https://www.tensorflow.org/api_docs/python/tf/function for  more details.\n"
          ]
        },
        {
          "data": {
            "image/png": "[encoded data removed]",
            "text/plain": [
              "<Figure size 432x288 with 25 Axes>"
            ]
          },
          "metadata": {},
          "output_type": "display_data"
        },
        {
          "data": {
            "image/png": "[encoded data removed]",
            "text/plain": [
              "<Figure size 432x288 with 25 Axes>"
            ]
          },
          "metadata": {},
          "output_type": "display_data"
        }
      ]
    }
  ]
}